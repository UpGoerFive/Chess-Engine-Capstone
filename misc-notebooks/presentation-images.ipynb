{
 "cells": [
  {
   "cell_type": "markdown",
   "metadata": {},
   "source": [
    "# Presentation Boards and Gif\n",
    "\n",
    "Note this notebook runs with chess-plotting conda environment. You can generate this from the environment file in the environments folder."
   ]
  },
  {
   "cell_type": "code",
   "execution_count": 2,
   "metadata": {},
   "outputs": [],
   "source": [
    "import numpy as np\n",
    "import pandas as pd\n",
    "import matplotlib.pyplot as plt\n",
    "import chess\n",
    "from PIL import Image\n",
    "from cairosvg import svg2png"
   ]
  },
  {
   "cell_type": "code",
   "execution_count": 3,
   "metadata": {},
   "outputs": [
    {
     "data": {
      "text/plain": [
       "'r6k/pp2r2p/4Rp1Q/3p4/8/1N1P2R1/PqP2bPP/7K b - - 0 24'"
      ]
     },
     "execution_count": 3,
     "metadata": {},
     "output_type": "execute_result"
    }
   ],
   "source": [
    "data = pd.read_csv('lichess_db_puzzle.csv', names=['PuzzleId', 'FEN', 'Moves', 'Rating', 'RatingDeviation', 'Popularity', 'NbPlays', 'Themes', 'GameUrl'])\n",
    "board = chess.Board(data.FEN[0])\n",
    "board.fen()"
   ]
  },
  {
   "cell_type": "code",
   "execution_count": 4,
   "metadata": {},
   "outputs": [],
   "source": [
    "# test = chess.svg.board(board)\n",
    "# svg2png(bytestring=test, write_to='output.png')"
   ]
  },
  {
   "cell_type": "code",
   "execution_count": 5,
   "metadata": {},
   "outputs": [
    {
     "data": {
      "text/plain": [
       "'f2g3 e6e7 b2b1 b3c1 b1c1 h6c1'"
      ]
     },
     "execution_count": 5,
     "metadata": {},
     "output_type": "execute_result"
    }
   ],
   "source": [
    "data.Moves[0]"
   ]
  },
  {
   "cell_type": "code",
   "execution_count": 6,
   "metadata": {},
   "outputs": [
    {
     "data": {
      "text/plain": [
       "'r6k/pp2r2p/4Rp1Q/3p4/8/1N1P2b1/PqP3PP/7K w - - 0 25'"
      ]
     },
     "execution_count": 6,
     "metadata": {},
     "output_type": "execute_result"
    }
   ],
   "source": [
    "board.push_uci('f2g3')\n",
    "# test_after = chess.svg.board(board)\n",
    "# svg2png(bytestring=test_after, write_to='output_after.png')\n",
    "board.fen()"
   ]
  },
  {
   "cell_type": "code",
   "execution_count": 35,
   "metadata": {},
   "outputs": [],
   "source": [
    "def create_board_breakdown_gif(board, outfile='board_breakdown.gif'):\n",
    "    \"\"\"\n",
    "    Creates a gif representing the channels that fen_to_array produces.\n",
    "    \"\"\"\n",
    "\n",
    "    # Create board map and initialze images list\n",
    "    board_map = board.piece_map()\n",
    "    images = []\n",
    "\n",
    "    # Give the full starting position first\n",
    "    full_board = chess.svg.board(board)\n",
    "    svg2png(bytestring=full_board, write_to='full_board.png')\n",
    "    with Image.open('full_board.png') as im:\n",
    "        im.load()\n",
    "        images.append(im)\n",
    "\n",
    "\n",
    "    for letter in list('PpNnBbRrQqKk'):\n",
    "        # Creates a blank board, reduces the board_map to a single piece type, then sets them on the board\n",
    "        temp = chess.Board(None)\n",
    "        slice_map = {square: board_map[square] for square in board_map.keys() if board_map[square].symbol() == letter}\n",
    "        temp.set_piece_map(slice_map)\n",
    "\n",
    "        # Saves the svg as a png. We have open the just created file because Pillow needs to deal with .png files\n",
    "        temp_img = chess.svg.board(temp)\n",
    "        svg2png(bytestring=temp_img, write_to=f'temp_img_{letter}.png')\n",
    "        with Image.open(f'temp_img_{letter}.png') as im:\n",
    "            im.load()\n",
    "            images.append(im)\n",
    "\n",
    "    images[0].save(outfile, save_all=True, append_images=images[1:], optimize=False, duration=1000, loop=0)\n"
   ]
  },
  {
   "cell_type": "code",
   "execution_count": 36,
   "metadata": {},
   "outputs": [],
   "source": [
    "# create_board_breakdown_gif(board)"
   ]
  },
  {
   "cell_type": "code",
   "execution_count": null,
   "metadata": {},
   "outputs": [],
   "source": []
  }
 ],
 "metadata": {
  "interpreter": {
   "hash": "ee0a5e5bf5625b85fe8b3503969a2ae7df2f5f7e92e10954b751982b3d5ddf25"
  },
  "kernelspec": {
   "display_name": "Python 3.9.7 ('chess-env')",
   "language": "python",
   "name": "python3"
  },
  "language_info": {
   "codemirror_mode": {
    "name": "ipython",
    "version": 3
   },
   "file_extension": ".py",
   "mimetype": "text/x-python",
   "name": "python",
   "nbconvert_exporter": "python",
   "pygments_lexer": "ipython3",
   "version": "3.9.7"
  },
  "orig_nbformat": 4
 },
 "nbformat": 4,
 "nbformat_minor": 2
}
