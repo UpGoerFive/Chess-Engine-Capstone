{
 "cells": [
  {
   "cell_type": "code",
   "execution_count": 1,
   "metadata": {},
   "outputs": [],
   "source": [
    "import numpy as np\n",
    "import pandas as pd\n",
    "from sklearn.model_selection import train_test_split\n",
    "from fenpreprocessing import puzzle_cleaning, make_converted_file\n",
    "from pathlib import Path"
   ]
  },
  {
   "cell_type": "markdown",
   "metadata": {},
   "source": [
    "# Split Data and advance by one ply\n",
    "\n",
    "The puzzles are presented after the first move in the move list is played, so we'll add a start+1 ply fen and target move column."
   ]
  },
  {
   "cell_type": "code",
   "execution_count": 2,
   "metadata": {},
   "outputs": [],
   "source": [
    "data = pd.read_csv('lichess_db_puzzle.csv', names=['PuzzleId', 'FEN', 'Moves', 'Rating', 'RatingDeviation', 'Popularity', 'NbPlays', 'Themes', 'GameUrl'])"
   ]
  },
  {
   "cell_type": "code",
   "execution_count": 3,
   "metadata": {},
   "outputs": [],
   "source": [
    "train, almost_test = train_test_split(data, test_size=.1, random_state=89252) # Split the data first, we have a large set so will use 90% for training\n",
    "val, test = train_test_split(almost_test, test_size=.5, random_state=89252) # Split test and validation data evenly"
   ]
  },
  {
   "cell_type": "code",
   "execution_count": 4,
   "metadata": {},
   "outputs": [],
   "source": [
    "outdir = Path('fens')\n",
    "outdir.mkdir(parents=True, exist_ok=True)\n",
    "\n",
    "for name, section in {'train': train, 'test': test, 'val': val}.items():\n",
    "    outfile = f'{name}.csv'\n",
    "    puzzle_cleaning(section).to_csv(outdir / outfile, index=False)"
   ]
  },
  {
   "cell_type": "markdown",
   "metadata": {},
   "source": [
    "## Convert to board representation arrays for all legal moves in puzzles\n",
    "\n",
    "Give the size required, we're not going to use the full sets currently."
   ]
  },
  {
   "cell_type": "code",
   "execution_count": 18,
   "metadata": {},
   "outputs": [],
   "source": [
    "temp_df = pd.read_csv('fens/train.csv', skiprows=36000, nrows=12000, names=['FEN', 'target_move'])\n",
    "train_partial, almost_test_partial = train_test_split(temp_df, test_size=.1) # Split the data first, we have a large set so will use 90% for training\n",
    "val_partial, test_partial = train_test_split(almost_test_partial, test_size=.5) # Split test and validation data evenly"
   ]
  },
  {
   "cell_type": "code",
   "execution_count": 14,
   "metadata": {},
   "outputs": [
    {
     "data": {
      "text/html": [
       "<div>\n",
       "<style scoped>\n",
       "    .dataframe tbody tr th:only-of-type {\n",
       "        vertical-align: middle;\n",
       "    }\n",
       "\n",
       "    .dataframe tbody tr th {\n",
       "        vertical-align: top;\n",
       "    }\n",
       "\n",
       "    .dataframe thead th {\n",
       "        text-align: right;\n",
       "    }\n",
       "</style>\n",
       "<table border=\"1\" class=\"dataframe\">\n",
       "  <thead>\n",
       "    <tr style=\"text-align: right;\">\n",
       "      <th></th>\n",
       "      <th>FEN</th>\n",
       "      <th>target_move</th>\n",
       "    </tr>\n",
       "  </thead>\n",
       "  <tbody>\n",
       "    <tr>\n",
       "      <th>0</th>\n",
       "      <td>5rk1/1p2pp1p/3p2P1/2n5/3B4/1B4Q1/1R3KPP/q7 b -...</td>\n",
       "      <td>c5e4</td>\n",
       "    </tr>\n",
       "    <tr>\n",
       "      <th>1</th>\n",
       "      <td>5r1k/4N1np/p1q5/1p1p4/3P1Q2/P1P2P1P/1r4P1/R5K1...</td>\n",
       "      <td>f4f8</td>\n",
       "    </tr>\n",
       "    <tr>\n",
       "      <th>2</th>\n",
       "      <td>8/4r1k1/4Pqp1/7p/4Rp2/5B1P/6PK/6B1 w - - 6 47</td>\n",
       "      <td>g1d4</td>\n",
       "    </tr>\n",
       "    <tr>\n",
       "      <th>3</th>\n",
       "      <td>3rr1k1/1p3pp1/p3p1q1/3pPP1p/bP1P2B1/6Q1/P5PP/R...</td>\n",
       "      <td>g6g4</td>\n",
       "    </tr>\n",
       "    <tr>\n",
       "      <th>4</th>\n",
       "      <td>5b1r/1p1kpp1p/p5p1/3P1P2/3NP3/4K2P/PP4P1/2R5 b...</td>\n",
       "      <td>f8h6</td>\n",
       "    </tr>\n",
       "    <tr>\n",
       "      <th>...</th>\n",
       "      <td>...</td>\n",
       "      <td>...</td>\n",
       "    </tr>\n",
       "    <tr>\n",
       "      <th>11995</th>\n",
       "      <td>2kr1b1r/pp1Bp1pp/4q3/3Q1b2/5B2/8/PPP2PPP/R4RK1...</td>\n",
       "      <td>d8d7</td>\n",
       "    </tr>\n",
       "    <tr>\n",
       "      <th>11996</th>\n",
       "      <td>4r1rk/4bQ2/p2p1n1B/2nPp3/2q4P/2N2N2/P1B2PP1/2K...</td>\n",
       "      <td>f3g5</td>\n",
       "    </tr>\n",
       "    <tr>\n",
       "      <th>11997</th>\n",
       "      <td>3rk2r/p4ppp/1pqB4/2p1P3/Q2n4/7P/5RP1/2R3K1 w k...</td>\n",
       "      <td>a4d4</td>\n",
       "    </tr>\n",
       "    <tr>\n",
       "      <th>11998</th>\n",
       "      <td>6k1/2r3pp/3q4/1pRpN1P1/p2PbPQ1/7P/PP6/6K1 b - ...</td>\n",
       "      <td>c7c5</td>\n",
       "    </tr>\n",
       "    <tr>\n",
       "      <th>11999</th>\n",
       "      <td>6r1/1P6/P4k2/3R4/2P1P2K/3P2p1/8/8 b - - 0 53</td>\n",
       "      <td>g3g2</td>\n",
       "    </tr>\n",
       "  </tbody>\n",
       "</table>\n",
       "<p>12000 rows × 2 columns</p>\n",
       "</div>"
      ],
      "text/plain": [
       "                                                     FEN target_move\n",
       "0      5rk1/1p2pp1p/3p2P1/2n5/3B4/1B4Q1/1R3KPP/q7 b -...        c5e4\n",
       "1      5r1k/4N1np/p1q5/1p1p4/3P1Q2/P1P2P1P/1r4P1/R5K1...        f4f8\n",
       "2          8/4r1k1/4Pqp1/7p/4Rp2/5B1P/6PK/6B1 w - - 6 47        g1d4\n",
       "3      3rr1k1/1p3pp1/p3p1q1/3pPP1p/bP1P2B1/6Q1/P5PP/R...        g6g4\n",
       "4      5b1r/1p1kpp1p/p5p1/3P1P2/3NP3/4K2P/PP4P1/2R5 b...        f8h6\n",
       "...                                                  ...         ...\n",
       "11995  2kr1b1r/pp1Bp1pp/4q3/3Q1b2/5B2/8/PPP2PPP/R4RK1...        d8d7\n",
       "11996  4r1rk/4bQ2/p2p1n1B/2nPp3/2q4P/2N2N2/P1B2PP1/2K...        f3g5\n",
       "11997  3rk2r/p4ppp/1pqB4/2p1P3/Q2n4/7P/5RP1/2R3K1 w k...        a4d4\n",
       "11998  6k1/2r3pp/3q4/1pRpN1P1/p2PbPQ1/7P/PP6/6K1 b - ...        c7c5\n",
       "11999       6r1/1P6/P4k2/3R4/2P1P2K/3P2p1/8/8 b - - 0 53        g3g2\n",
       "\n",
       "[12000 rows x 2 columns]"
      ]
     },
     "execution_count": 14,
     "metadata": {},
     "output_type": "execute_result"
    }
   ],
   "source": [
    "temp_df"
   ]
  },
  {
   "cell_type": "code",
   "execution_count": 19,
   "metadata": {},
   "outputs": [],
   "source": [
    "outdir = Path('fens')\n",
    "outdir.mkdir(parents=True, exist_ok=True)\n",
    "\n",
    "for name, section in {'train_partial4': train_partial, 'test_partial4': test_partial, 'val_partial4': val_partial}.items():\n",
    "    section.to_csv(outdir / f'cleaned_{name}.csv')\n",
    "    make_converted_file(outdir / f'cleaned_{name}.csv', outdir / f'converted_{name}.csv')\n"
   ]
  },
  {
   "cell_type": "code",
   "execution_count": null,
   "metadata": {},
   "outputs": [],
   "source": []
  }
 ],
 "metadata": {
  "interpreter": {
   "hash": "ee0a5e5bf5625b85fe8b3503969a2ae7df2f5f7e92e10954b751982b3d5ddf25"
  },
  "kernelspec": {
   "display_name": "Python 3.9.7 ('chess-env')",
   "language": "python",
   "name": "python3"
  },
  "language_info": {
   "codemirror_mode": {
    "name": "ipython",
    "version": 3
   },
   "file_extension": ".py",
   "mimetype": "text/x-python",
   "name": "python",
   "nbconvert_exporter": "python",
   "pygments_lexer": "ipython3",
   "version": "3.8.5"
  },
  "orig_nbformat": 4
 },
 "nbformat": 4,
 "nbformat_minor": 2
}
