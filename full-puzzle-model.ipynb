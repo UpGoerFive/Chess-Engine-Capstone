{
 "cells": [
  {
   "cell_type": "code",
   "execution_count": 1,
   "metadata": {},
   "outputs": [],
   "source": [
    "import numpy as np\n",
    "import pandas as pd\n",
    "import tensorflow as tf\n",
    "from tensorflow.keras import models, layers\n",
    "from tensorflow.keras.callbacks import EarlyStopping\n",
    "from data_generation import ChessPositionGen\n",
    "\n",
    "import datetime\n",
    "%load_ext tensorboard"
   ]
  },
  {
   "cell_type": "code",
   "execution_count": 3,
   "metadata": {},
   "outputs": [],
   "source": [
    "# Setting paramaters on early stopping\n",
    "earlystop = EarlyStopping(monitor='val_loss',\n",
    "                          min_delta=0,\n",
    "                          patience=5,\n",
    "                          verbose=1,\n",
    "                          mode='min',\n",
    "                          restore_best_weights=True)\n",
    "\n",
    "log_dir = \"logs/fit/full_puzzle\" + datetime.datetime.now().strftime(\"%Y%m%d-%H%M%S\")\n",
    "tensorboard_callback = tf.keras.callbacks.TensorBoard(log_dir=log_dir, histogram_freq=1)\n"
   ]
  },
  {
   "cell_type": "code",
   "execution_count": 4,
   "metadata": {},
   "outputs": [
    {
     "name": "stdout",
     "output_type": "stream",
     "text": [
      "1 Physical GPUs, 1 Logical GPUs\n"
     ]
    }
   ],
   "source": [
    "# Memory management, likely not necessary, but used as a safety as per the documentation recommendations on using GPUS\n",
    "\n",
    "gpus = tf.config.list_physical_devices('GPU')\n",
    "if gpus:\n",
    "  try:\n",
    "    # Currently, memory growth needs to be the same across GPUs\n",
    "    for gpu in gpus:\n",
    "        tf.config.experimental.set_memory_growth(gpu, True)\n",
    "    logical_gpus = tf.config.list_logical_devices('GPU')\n",
    "    print(len(gpus), \"Physical GPUs,\", len(logical_gpus), \"Logical GPUs\")\n",
    "  except RuntimeError as e:\n",
    "    # Memory growth must be set before GPUs have been initialized\n",
    "    print(e)\n"
   ]
  },
  {
   "cell_type": "code",
   "execution_count": 5,
   "metadata": {},
   "outputs": [],
   "source": [
    "train = pd.read_csv('fens/train.csv')\n",
    "val = pd.read_csv('fens/val.csv')"
   ]
  },
  {
   "cell_type": "code",
   "execution_count": 6,
   "metadata": {},
   "outputs": [],
   "source": [
    "train_gen = ChessPositionGen(train, batch_size=512)\n",
    "val_gen = ChessPositionGen(val, batch_size=512)"
   ]
  },
  {
   "cell_type": "code",
   "execution_count": 7,
   "metadata": {},
   "outputs": [
    {
     "name": "stdout",
     "output_type": "stream",
     "text": [
      "Model: \"sequential\"\n",
      "_________________________________________________________________\n",
      "Layer (type)                 Output Shape              Param #   \n",
      "=================================================================\n",
      "conv2d (Conv2D)              (None, 8, 8, 64)          13376     \n",
      "_________________________________________________________________\n",
      "max_pooling2d (MaxPooling2D) (None, 4, 4, 64)          0         \n",
      "_________________________________________________________________\n",
      "conv2d_1 (Conv2D)            (None, 4, 4, 32)          8224      \n",
      "_________________________________________________________________\n",
      "flatten (Flatten)            (None, 512)               0         \n",
      "_________________________________________________________________\n",
      "dense (Dense)                (None, 64)                32832     \n",
      "_________________________________________________________________\n",
      "dense_1 (Dense)              (None, 1)                 65        \n",
      "=================================================================\n",
      "Total params: 54,497\n",
      "Trainable params: 54,497\n",
      "Non-trainable params: 0\n",
      "_________________________________________________________________\n",
      "Epoch 1/30\n",
      "3953/3953 [==============================] - 2697s 678ms/step - loss: 0.4042 - acc: 0.8451 - val_loss: 0.3744 - val_acc: 0.8628\n",
      "Epoch 2/30\n",
      "3953/3953 [==============================] - 2702s 683ms/step - loss: 0.3677 - acc: 0.8653 - val_loss: 0.3647 - val_acc: 0.8667\n",
      "Epoch 3/30\n",
      "3953/3953 [==============================] - 2704s 684ms/step - loss: 0.3590 - acc: 0.8691 - val_loss: 0.3559 - val_acc: 0.8703\n",
      "Epoch 4/30\n",
      "3953/3953 [==============================] - 2688s 680ms/step - loss: 0.3524 - acc: 0.8716 - val_loss: 0.3518 - val_acc: 0.8712\n",
      "Epoch 5/30\n",
      "3953/3953 [==============================] - 2679s 678ms/step - loss: 0.3468 - acc: 0.8731 - val_loss: 0.3440 - val_acc: 0.8737\n",
      "Epoch 6/30\n",
      "3953/3953 [==============================] - 2687s 680ms/step - loss: 0.3401 - acc: 0.8744 - val_loss: 0.3381 - val_acc: 0.8745\n",
      "Epoch 7/30\n",
      "3953/3953 [==============================] - 2703s 684ms/step - loss: 0.3349 - acc: 0.8755 - val_loss: 0.3356 - val_acc: 0.8748\n",
      "Epoch 8/30\n",
      "3953/3953 [==============================] - 2690s 680ms/step - loss: 0.3313 - acc: 0.8762 - val_loss: 0.3298 - val_acc: 0.8769\n",
      "Epoch 9/30\n",
      "3953/3953 [==============================] - 2694s 682ms/step - loss: 0.3282 - acc: 0.8772 - val_loss: 0.3319 - val_acc: 0.8762\n",
      "Epoch 10/30\n",
      "3953/3953 [==============================] - 2684s 679ms/step - loss: 0.3259 - acc: 0.8778 - val_loss: 0.3253 - val_acc: 0.8781\n",
      "Epoch 11/30\n",
      "3953/3953 [==============================] - 2692s 681ms/step - loss: 0.3235 - acc: 0.8785 - val_loss: 0.3230 - val_acc: 0.8786\n",
      "Epoch 12/30\n",
      "3953/3953 [==============================] - 2687s 679ms/step - loss: 0.3215 - acc: 0.8791 - val_loss: 0.3235 - val_acc: 0.8787\n",
      "Epoch 13/30\n",
      "3953/3953 [==============================] - 2700s 683ms/step - loss: 0.3195 - acc: 0.8796 - val_loss: 0.3200 - val_acc: 0.8794\n",
      "Epoch 14/30\n",
      "3953/3953 [==============================] - 2679s 678ms/step - loss: 0.3180 - acc: 0.8801 - val_loss: 0.3189 - val_acc: 0.8796\n",
      "Epoch 15/30\n",
      "3953/3953 [==============================] - 2693s 681ms/step - loss: 0.3164 - acc: 0.8807 - val_loss: 0.3173 - val_acc: 0.8808\n",
      "Epoch 16/30\n",
      "3953/3953 [==============================] - 2673s 676ms/step - loss: 0.3153 - acc: 0.8810 - val_loss: 0.3183 - val_acc: 0.8804\n",
      "Epoch 17/30\n",
      "3953/3953 [==============================] - 2664s 674ms/step - loss: 0.3143 - acc: 0.8813 - val_loss: 0.3172 - val_acc: 0.8806\n",
      "Epoch 18/30\n",
      "3953/3953 [==============================] - 2667s 674ms/step - loss: 0.3130 - acc: 0.8817 - val_loss: 0.3155 - val_acc: 0.8818\n",
      "Epoch 19/30\n",
      "3953/3953 [==============================] - 2673s 676ms/step - loss: 0.3121 - acc: 0.8819 - val_loss: 0.3153 - val_acc: 0.8815\n",
      "Epoch 20/30\n",
      "3953/3953 [==============================] - 2666s 674ms/step - loss: 0.3112 - acc: 0.8822 - val_loss: 0.3128 - val_acc: 0.8822\n",
      "Epoch 21/30\n",
      "3953/3953 [==============================] - 2671s 676ms/step - loss: 0.3104 - acc: 0.8826 - val_loss: 0.3150 - val_acc: 0.8815\n",
      "Epoch 22/30\n",
      "3953/3953 [==============================] - 2685s 679ms/step - loss: 0.3093 - acc: 0.8829 - val_loss: 0.3121 - val_acc: 0.8819\n",
      "Epoch 23/30\n",
      "3953/3953 [==============================] - 2686s 679ms/step - loss: 0.3086 - acc: 0.8831 - val_loss: 0.3099 - val_acc: 0.8831\n",
      "Epoch 24/30\n",
      "3953/3953 [==============================] - 2691s 681ms/step - loss: 0.3080 - acc: 0.8834 - val_loss: 0.3114 - val_acc: 0.8827\n",
      "Epoch 25/30\n",
      "3953/3953 [==============================] - 2684s 679ms/step - loss: 0.3072 - acc: 0.8836 - val_loss: 0.3091 - val_acc: 0.8831\n",
      "Epoch 26/30\n",
      "3953/3953 [==============================] - 2680s 678ms/step - loss: 0.3066 - acc: 0.8837 - val_loss: 0.3080 - val_acc: 0.8839\n",
      "Epoch 27/30\n",
      "3953/3953 [==============================] - 2684s 679ms/step - loss: 0.3060 - acc: 0.8840 - val_loss: 0.3106 - val_acc: 0.8828\n",
      "Epoch 28/30\n",
      "3953/3953 [==============================] - 2682s 678ms/step - loss: 0.3055 - acc: 0.8842 - val_loss: 0.3084 - val_acc: 0.8836\n",
      "Epoch 29/30\n",
      "3953/3953 [==============================] - 2667s 675ms/step - loss: 0.3050 - acc: 0.8844 - val_loss: 0.3071 - val_acc: 0.8839\n",
      "Epoch 30/30\n",
      "3953/3953 [==============================] - 2677s 677ms/step - loss: 0.3045 - acc: 0.8844 - val_loss: 0.3108 - val_acc: 0.8833\n"
     ]
    }
   ],
   "source": [
    "full_puzzle_model = models.Sequential()\n",
    "full_puzzle_model.add(layers.Conv2D(64, 4, padding='same', input_shape=(8,8,13), activation='relu'))\n",
    "full_puzzle_model.add(layers.MaxPooling2D(2))\n",
    "full_puzzle_model.add(layers.Conv2D(32, 2, padding='same', activation='relu'))\n",
    "full_puzzle_model.add(layers.Flatten())\n",
    "full_puzzle_model.add(layers.Dense(64, activation='relu'))\n",
    "full_puzzle_model.add(layers.Dense(1, activation='sigmoid'))\n",
    "full_puzzle_model.compile(optimizer=\"adam\", loss=\"binary_crossentropy\", metrics=['acc'])\n",
    "full_puzzle_model.summary()\n",
    "\n",
    "# Fitting the model\n",
    "full_puzzle_history = full_puzzle_model.fit(x=train_gen,\n",
    "                    validation_data=val_gen,\n",
    "                    # steps_per_epoch=100,\n",
    "                    epochs=30,\n",
    "                    callbacks=[earlystop, tensorboard_callback]\n",
    "                    )"
   ]
  },
  {
   "cell_type": "code",
   "execution_count": 10,
   "metadata": {},
   "outputs": [
    {
     "name": "stdout",
     "output_type": "stream",
     "text": [
      "INFO:tensorflow:Assets written to: full-puzzle-PB/assets\n"
     ]
    }
   ],
   "source": [
    "full_puzzle_model.save('full-puzzle-PB')"
   ]
  },
  {
   "cell_type": "code",
   "execution_count": 9,
   "metadata": {},
   "outputs": [],
   "source": [
    "# test = pd.read_csv('fens/test.csv')\n",
    "# test_gen = ChessPositionGen(test)"
   ]
  },
  {
   "cell_type": "code",
   "execution_count": null,
   "metadata": {},
   "outputs": [],
   "source": [
    "%tensorboard --logdir logs/fit\n"
   ]
  }
 ],
 "metadata": {
  "interpreter": {
   "hash": "ee0a5e5bf5625b85fe8b3503969a2ae7df2f5f7e92e10954b751982b3d5ddf25"
  },
  "kernelspec": {
   "display_name": "Python 3.9.7 ('chess-env')",
   "language": "python",
   "name": "python3"
  },
  "language_info": {
   "codemirror_mode": {
    "name": "ipython",
    "version": 3
   },
   "file_extension": ".py",
   "mimetype": "text/x-python",
   "name": "python",
   "nbconvert_exporter": "python",
   "pygments_lexer": "ipython3",
   "version": "3.8.5"
  },
  "orig_nbformat": 4
 },
 "nbformat": 4,
 "nbformat_minor": 2
}
