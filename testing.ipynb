{
 "cells": [
  {
   "cell_type": "code",
   "execution_count": 1,
   "metadata": {},
   "outputs": [],
   "source": [
    "import numpy as np\n",
    "import pandas as pd\n",
    "import tensorflow as tf\n",
    "from tensorflow.keras import models, layers\n",
    "from tensorflow.keras.callbacks import EarlyStopping\n",
    "from data_generation import ChessPositionGen, DenseGenerator"
   ]
  },
  {
   "cell_type": "code",
   "execution_count": 2,
   "metadata": {},
   "outputs": [],
   "source": [
    "test = pd.read_csv('fens/test.csv')"
   ]
  },
  {
   "cell_type": "code",
   "execution_count": 3,
   "metadata": {},
   "outputs": [],
   "source": [
    "cnn_test = ChessPositionGen(test, batch_size=512)\n",
    "dense_test = DenseGenerator(test, batch_size=512)"
   ]
  },
  {
   "cell_type": "code",
   "execution_count": 4,
   "metadata": {},
   "outputs": [
    {
     "name": "stdout",
     "output_type": "stream",
     "text": [
      "220/220 [==============================] - 164s 744ms/step - loss: 0.3102 - acc: 0.8832\n",
      "models/full-puzzle.h5 [0.31023240089416504, 0.8831508159637451]\n",
      "WARNING:tensorflow:Error in loading the saved optimizer state. As a result, your model is starting with a freshly initialized optimizer.\n",
      "220/220 [==============================] - 744s 3s/step - loss: 0.2535 - acc: 0.9034\n",
      "models/tuned_model.h5 [0.2534972131252289, 0.9034289717674255]\n",
      "220/220 [==============================] - 151s 688ms/step - loss: 0.3138 - acc: 0.8791\n",
      "models/tuned_model.h5 [0.3137536942958832, 0.8790961503982544]\n"
     ]
    }
   ],
   "source": [
    "test_models = ['models/full-puzzle.h5', 'models/tuned_model.h5']\n",
    "MLP_model = 'models/MLPmodel-Long.h5'\n",
    "\n",
    "for model in test_models:\n",
    "    temp = models.load_model(model)\n",
    "    print(model, temp.evaluate(cnn_test))\n",
    "\n",
    "temp = models.load_model(MLP_model)\n",
    "print(model, temp.evaluate(dense_test))"
   ]
  }
 ],
 "metadata": {
  "interpreter": {
   "hash": "ee0a5e5bf5625b85fe8b3503969a2ae7df2f5f7e92e10954b751982b3d5ddf25"
  },
  "kernelspec": {
   "display_name": "Python 3.9.7 ('chess-env')",
   "language": "python",
   "name": "python3"
  },
  "language_info": {
   "codemirror_mode": {
    "name": "ipython",
    "version": 3
   },
   "file_extension": ".py",
   "mimetype": "text/x-python",
   "name": "python",
   "nbconvert_exporter": "python",
   "pygments_lexer": "ipython3",
   "version": "3.8.5"
  },
  "orig_nbformat": 4
 },
 "nbformat": 4,
 "nbformat_minor": 2
}
